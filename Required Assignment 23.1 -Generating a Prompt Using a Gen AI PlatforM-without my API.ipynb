{
 "cells": [
  {
   "cell_type": "markdown",
   "id": "aff68d01-f4b4-4006-8a13-6618fab3497f",
   "metadata": {},
   "source": [
    "## Introduction to OpenAI and its API\n",
    "\n",
    "This notebook demonstrates how to install, import and use the `OpenAI` library and its API to translate text from English to Spanish."
   ]
  },
  {
   "cell_type": "markdown",
   "id": "5f546f89-2079-4e7a-a990-a2255abc190e",
   "metadata": {},
   "source": [
    "## Installing the OpenAI library\n",
    "\n",
    "First, you will need to install the OpenAI library using the package management system `pip`:"
   ]
  },
  {
   "cell_type": "code",
   "execution_count": 1,
   "id": "47ca0b4a-c019-43c5-9d96-7daf6231f069",
   "metadata": {},
   "outputs": [],
   "source": [
    "!pip install -q openai"
   ]
  },
  {
   "cell_type": "markdown",
   "id": "ca945fba-a578-4d2e-8cae-69ccbd696dc8",
   "metadata": {},
   "source": [
    "## Import the OpenAI library and define your API key\n",
    "\n",
    "In the code cell below, we have loaded to OpenAI library and defined the OpenAI key.\n",
    "\n",
    "## you should copy the client you get from  \n",
    "https://platform.openai.com/"
   ]
  },
  {
   "cell_type": "code",
   "execution_count": 1,
   "id": "395f1df1-4716-4e29-9a25-b290677ad508",
   "metadata": {},
   "outputs": [],
   "source": [
    "from openai import OpenAI\n",
    "\n",
    "client = OpenAI(\n",
    "  api_key=\"your_prompt\"\n",
    ")\n",
    "\n"
   ]
  },
  {
   "cell_type": "markdown",
   "id": "1c9f9555-d125-4679-8ee2-36364ed9c8fc",
   "metadata": {},
   "source": [
    "PROMPT TYPES\n",
    "1. **Instructional prompts** provide clear and specific\n",
    "instructions for the AI model to follow.\n",
    "▪ Example: “Write a brief summary of the effect of\n",
    "global warming on health care.”\n",
    "2. **Descriptive prompts** provide a description or context for\n",
    "AI to generate content based on.\n",
    "▪ Example: “Briefly describe the steps required for\n",
    "addressing the effect of global warming on health\n",
    "care.”\n",
    "3. **Question prompts** provide questions for AI to answer.\n",
    "▪ Example: “What are the effects of global warming on\n",
    "health care?”\n",
    "4. **Completion prompts** provide a partial question for AI to\n",
    "complete.\n",
    "▪ Example: “The effect of global warming on health\n",
    "care can be addressed by the following steps…”\n",
    "5. **Example-based prompts** provide an example for the type\n",
    "of output desired.\n",
    "▪ Example: “One example of preventing effects of\n",
    "global warming on health care is to ‘Monitor\n",
    "emerging and re-emerging diseases that may be\n",
    "influenced by changing climate conditions.’ Provide\n",
    "more example on these grounds to reduce the effect\n",
    "of global warming on health care.”"
   ]
  },
  {
   "cell_type": "markdown",
   "id": "166039f7-65c3-4004-81db-a37fd9cd7cfb",
   "metadata": {},
   "source": [
    "1- **Instructional prompts**"
   ]
  },
  {
   "cell_type": "code",
   "execution_count": 12,
   "id": "e47f2d6c-5605-4ceb-8744-2a30ebf44c5a",
   "metadata": {},
   "outputs": [
    {
     "data": {
      "text/plain": [
       "'High inflation can have several significant effects on an economy. Firstly, it erodes purchasing power, meaning consumers can buy less with the same amount of money, leading to reduced consumer spending. This can slow economic growth as businesses face declining demand for their products and services.  Savers may be adversely affected, as inflation diminishes the real value of savings unless interest rates rise correspondingly. In contrast, borrowers may benefit since the real value of debt decreases over time, making it easier to repay loans. However, if inflation persists, central banks may raise interest rates to combat it, which can further dampen economic activity by increasing borrowing costs.  Additionally, high inflation can create uncertainty in the economy, leading businesses to hesitate in investing or expanding due to unpredictable costs. This uncertainty can distort price signals, making it challenging for companies to make informed decisions about production and pricing. Overall, prolonged high inflation can lead to economic instability, prompting declines in growth, increased unemployment, and potential social unrest.'"
      ]
     },
     "execution_count": 12,
     "metadata": {},
     "output_type": "execute_result"
    }
   ],
   "source": [
    "completion = client.chat.completions.create(\n",
    "  model=\"gpt-4o-mini\",\n",
    "  store=True,\n",
    "  messages=[\n",
    "    {\"role\": \"user\", \"content\": \"write a brief summary about the effects of high inflation on economy \"}\n",
    "  ]\n",
    ")\n",
    "#print(completion.choices[0].message);\n",
    "#Extract and format the response:\n",
    "narrative = completion.choices[0].message.content\n",
    "#formatting\n",
    "narrative.replace('\\n', ' ')"
   ]
  },
  {
   "cell_type": "code",
   "execution_count": null,
   "id": "33956218-079c-4ed4-8254-eda459778da7",
   "metadata": {},
   "outputs": [],
   "source": []
  },
  {
   "cell_type": "markdown",
   "id": "6d476833-e859-4bb2-b810-0a629c1637aa",
   "metadata": {},
   "source": [
    "**Analyze Effectiveness for Prompt Instructional:**\n",
    "\n",
    "**Relevance:**\n",
    "\n",
    "The response address the prompt completely and correctly, and then it has high level of relevance. \n",
    "\n",
    "**Coherence:**\n",
    "\n",
    " Response has logical structure and easy to understand. For someone who has knowledge in economics, this answer is very direct and easy to understand. Therefore, it has high level of coherence. \n",
    " \n",
    "**Creativity:**\n",
    "\n",
    "This answer covers various dimensions of the effect on economy. At first focused on purchase power, then to uncertainty, then to income and stability. Then it has high level of creativity too. \n",
    "\n",
    "**Accuracy:**\n",
    "\n",
    " Information provided are correct, and then its accuracy is high too. \n"
   ]
  },
  {
   "cell_type": "markdown",
   "id": "0b0850bd-1b75-4e24-a176-91b2b56ce600",
   "metadata": {},
   "source": [
    "2-**Descriptive prompts**\n"
   ]
  },
  {
   "cell_type": "code",
   "execution_count": 8,
   "id": "c12f9c89-a809-4cbd-a1fc-0be7add51316",
   "metadata": {},
   "outputs": [
    {
     "data": {
      "text/plain": [
       "\"Writing a good machine learning program involves several key steps:  1. **Define the Problem**: Clearly specify the problem you want to solve and determine the type of machine learning approach suitable for it (e.g., classification, regression, clustering).  2. **Collect Data**: Gather relevant and high-quality data that reflects the problem domain. This may involve web scraping, using APIs, or accessing existing datasets.  3. **Prepare the Data**: Clean and preprocess the data to handle missing values, remove duplicates, normalize or standardize features, and convert categorical variables into numerical format (one-hot encoding).  4. **Explore and Analyze Data**: Conduct exploratory data analysis (EDA) to understand the data distribution, identify patterns, and visualize relationships using charts and graphs.  5. **Select a Model**: Choose appropriate machine learning algorithms based on the problem type, data characteristics, and performance requirements.  6. **Split the Data**: Divide the dataset into training, validation, and test sets to evaluate the model's performance and prevent overfitting.  7. **Train the Model**: Fit the selected algorithms to the training data, adjusting parameters as needed, and employ techniques such as cross-validation to assess model performance.  8. **Evaluate the Model**: Assess the model using the validation set with relevant metrics (e.g., accuracy, precision, recall, F1-score, ROC-AUC for classification tasks) to ensure it meets desired performance standards.  9. **Tune Hyperparameters**: Optimize model performance by fine-tuning hyperparameters using methods like grid search or random search.  10. **Test the Model**: Use the test set to evaluate how well the model generalizes to unseen data and confirm its reliability.  11. **Deploy the Model**: Integrate the trained model into a production environment where it can be accessed and utilized by end-users or applications.  12. **Monitor and Maintain**: Continuously monitor the model’s performance over time, retraining it as necessary to adapt to new data and changing conditions.  By following these steps, you can create a robust machine learning program that effectively addresses the intended problem.\""
      ]
     },
     "execution_count": 8,
     "metadata": {},
     "output_type": "execute_result"
    }
   ],
   "source": [
    "completion = client.chat.completions.create(\n",
    "  model=\"gpt-4o-mini\",\n",
    "  store=True,\n",
    "  messages=[\n",
    "    {\"role\": \"user\",\n",
    "     \"content\": \"Briefly describe the steps required for writing a good machine learning program\"}\n",
    "  ]\n",
    ")\n",
    "#print(completion.choices[0].message);\n",
    "#Extract and format the response:\n",
    "narrative = completion.choices[0].message.content\n",
    "#formatting\n",
    "narrative.replace('\\n', ' ')"
   ]
  },
  {
   "cell_type": "markdown",
   "id": "d86297aa-79c4-41a0-b96f-393377cbeaac",
   "metadata": {},
   "source": [
    "**Analyze Effectiveness for Prompt 2- Descriptive:**\n",
    "\n",
    "**Relevance:** \n",
    "\n",
    "The response address the prompt correctly and completely. Answer is completely related to the prompt, and then it has high level of relevance. \n",
    "\n",
    "**Coherence:** \n",
    "Logical structure of response is very good and the answer is easy to understand. Defining a problem, gathering data, feature engineering, EDA, train/test, model selection, split data, model evaluation, test, deployment and monitoring are all covered in answer. Therefore, it has high level of coherence. \n",
    "\n",
    "**Creativity:** \n",
    "This answer covers various all factors are related to write a good machine learning algorithms. It is normal answer but with detail, then its creativity is good.  \n",
    "\n",
    "**Accuracy:**  \n",
    "Information provided are correct, and then its accuracy is high too. However, to check the accuracy we need to define detail questions, but for our prompt, it has high accuracy. \n"
   ]
  },
  {
   "cell_type": "code",
   "execution_count": null,
   "id": "9113d60f-3138-437c-8021-cc51d75916f4",
   "metadata": {},
   "outputs": [],
   "source": []
  },
  {
   "cell_type": "markdown",
   "id": "1e32b8de-8fbf-4297-9961-83da98d294e2",
   "metadata": {},
   "source": [
    "3-**Completion prompts**"
   ]
  },
  {
   "cell_type": "code",
   "execution_count": 11,
   "id": "03e17605-40cd-4912-8222-e6a2704ebb61",
   "metadata": {},
   "outputs": [
    {
     "data": {
      "text/plain": [
       "'The effects of a global trade war can be multifaceted, impacting economies, businesses, and consumers. To address these effects, the following steps can be taken:  1. **Policy Adjustment:**    - **Tariff Reassessment:** Evaluate and potentially reduce tariffs imposed in response to the trade war in order to ease trade relations.    - **Trade Agreements:** Seek to negotiate new or amend existing trade agreements to foster better relations and open new markets.  2. **Diversification of Trade Partners:**    - Encourage businesses to diversify their supply chains and export markets to reduce dependency on specific countries.    - Promote bilateral or multilateral trade partnerships with a broader range of countries.  3. **Domestic Support for Affected Industries:**    - Implement support measures for industries hit hard by tariffs, such as subsidies, tax incentives, or grants which can help them adapt to changing conditions.    - Provide retraining and support for workers displaced by shifts in trade patterns.  4. **Investment in Innovation and Competitiveness:**    - Increase funding for research and development to promote innovation, making domestic industries more competitive on a global scale.    - Support small and medium-sized enterprises (SMEs) in gaining access to international markets.  5. **Strengthening the Workforce:**    - Invest in education and vocational training to equip the workforce with skills needed for emerging industries affected by changing trade dynamics.    - Promote STEM (science, technology, engineering, mathematics) education and lifelong learning initiatives.  6. **Economic Stabilization Measures:**    - Use monetary and fiscal policy tools to stabilize the economy and mitigate the impact of reduced trade volumes.    - Consider temporary measures such as economic stimulus packages to support growth during downturns.  7. **Engaging in International Institutions:**    - Work through organizations like the World Trade Organization (WTO) to resolve trade disputes and advocate for fair trade practices globally.    - Promote dialogues and negotiations to reduce tensions and seek collective solutions.  8. **Monitoring and Analysis:**    - Establish mechanisms for continuous monitoring of trade conditions and their economic impact to inform policymakers and businesses.    - Utilize data analytics and economic modeling to assess the ongoing effects of trade disputes and develop responsive strategies.  9. **Public Awareness and Education:**    - Educate the public and stakeholders about the implications of trade policies, fostering a better understanding of the global economy.    - Promote transparent communication regarding government actions and their potential effects on the economy.  10. **Encouraging Sustainable Practices:**     - Emphasize sustainability in trade agreements and practices, focusing on environmental standards that can lead to long-term economic and ecological benefits.  By taking these steps, countries can better navigate the challenges posed by a global trade war while promoting economic resilience, growth, and innovation.'"
      ]
     },
     "execution_count": 11,
     "metadata": {},
     "output_type": "execute_result"
    }
   ],
   "source": [
    "completion = client.chat.completions.create(\n",
    "  model=\"gpt-4o-mini\",\n",
    "  store=True,\n",
    "  messages=[\n",
    "    {\"role\": \"user\",\n",
    "     \"content\": \"The effect of global trade war on economy can be addressed by the following steps…\"}\n",
    "  ]\n",
    ")\n",
    "#print(completion.choices[0].message);\n",
    "#Extract and format the response:\n",
    "narrative = completion.choices[0].message.content\n",
    "#formatting\n",
    "narrative.replace('\\n', ' ')"
   ]
  },
  {
   "cell_type": "markdown",
   "id": "98ad1306-84ec-44f3-99f0-4d791b3f1af3",
   "metadata": {},
   "source": [
    "**Analyze Effectiveness for Prompt Completion**\n",
    "\n",
    "**Relevance:**\n",
    "\n",
    "The response address only some part of the prompt. Is has been related only for some part of the question and does not cover all dimensions, especially does not cover trade wars on economy such as effect on economic growth, inflation, unemployment. Then relevance is low. \n",
    "\n",
    "**Coherence:**\n",
    "\n",
    "Logical structure of response is not so good, as it only cover one part of the prompt; even I think the GPT4o-Mini could not understand the question well. Then the response has low level of coherence. \n",
    "\n",
    "**Creativity:**\n",
    "\n",
    "This answer covers only some part of the answer, on that part, it has creativity, but in general, it has low level of creativity.   \n",
    "\n",
    "**Accuracy:**\n",
    "\n",
    " Information provided is not accurate, as it does not all parts of the prompt. Then accuracy is low. \n"
   ]
  },
  {
   "cell_type": "code",
   "execution_count": null,
   "id": "026f9e1d-8fb5-4e96-8f4d-3669dcb2f801",
   "metadata": {},
   "outputs": [],
   "source": []
  },
  {
   "cell_type": "markdown",
   "id": "8c85e923-af86-42a2-a116-fbc5d85126df",
   "metadata": {},
   "source": [
    "4- **Question prompts**"
   ]
  },
  {
   "cell_type": "code",
   "execution_count": 2,
   "id": "937c9caa-77e6-4229-b958-59fe898a2fc8",
   "metadata": {},
   "outputs": [
    {
     "data": {
      "text/plain": [
       "'Global warming has significant implications for public health and healthcare systems. Here are some of the key effects:  1. **Increased Incidence of Heat-Related Illnesses**: Rising temperatures can lead to more cases of heat-related illnesses, such as heat exhaustion and heatstroke, particularly among vulnerable populations like the elderly and those with pre-existing health conditions.  2. **Respiratory and Cardiovascular Problems**: Higher temperatures can exacerbate air pollution and contribute to the formation of ground-level ozone, leading to respiratory problems, asthma, and cardiovascular issues. Allergies may also increase due to longer pollen seasons.  3. **Vector-Borne Diseases**: Changes in climate can expand the habitats of disease-carrying vectors, such as mosquitoes and ticks, potentially leading to increased transmission of diseases like malaria, dengue fever, Zika virus, Lyme disease, and West Nile virus.  4. **Food and Water Security**: Global warming can impact agricultural productivity through extreme weather events, altering food supply and nutrition. Additionally, water scarcity and contamination can arise from changing precipitation patterns, leading to gastrointestinal diseases and other health risks.  5. **Mental Health Impacts**: The stresses associated with climate-related disasters (e.g., hurricanes, floods, wildfires) can lead to increased mental health issues, such as anxiety, depression, and post-traumatic stress disorder (PTSD).  6. **Disruption of Healthcare Services**: Extreme weather events and changing climate patterns can disrupt healthcare infrastructure, making it difficult to provide necessary services, particularly in vulnerable communities.  7. **Increased Vulnerability for Pre-existing Conditions**: Populations with existing health disparities may experience worse outcomes due to global warming, amplifying health inequalities as access to healthcare and resources become more limited.  8. **Economic Burden on Healthcare Systems**: The increased incidence of climate-related health issues can place a strain on healthcare systems, leading to higher healthcare costs, increased hospitalizations, and greater demand for healthcare services.  9. **Emerging Health Threats**: Global warming can potentially lead to the emergence of new health threats or the re-emergence of diseases previously under control, complicating public health responses.  Addressing the health impacts of global warming requires comprehensive public health strategies, including improving community resilience, investing in health care infrastructure, enhancing disease surveillance, and promoting policies aimed at reducing greenhouse gas emissions.'"
      ]
     },
     "execution_count": 2,
     "metadata": {},
     "output_type": "execute_result"
    }
   ],
   "source": [
    "completion = client.chat.completions.create(\n",
    "  model=\"gpt-4o-mini\",\n",
    "  store=True,\n",
    "  messages=[\n",
    "    {\"role\": \"user\",\n",
    "     \"content\": \"What are the effects of global warming on health care\"}\n",
    "  ]\n",
    ")\n",
    "#print(completion.choices[0].message);\n",
    "#Extract and format the response:\n",
    "narrative = completion.choices[0].message.content\n",
    "#formatting\n",
    "narrative.replace('\\n', ' ')"
   ]
  },
  {
   "cell_type": "markdown",
   "id": "ecc30580-1076-4e95-ab0a-21b7e8b0634a",
   "metadata": {},
   "source": [
    "5. **Example-based prompts**"
   ]
  },
  {
   "cell_type": "code",
   "execution_count": 4,
   "id": "62fb9dd8-a0de-4994-97d3-2eb61beccf49",
   "metadata": {},
   "outputs": [
    {
     "data": {
      "text/plain": [
       "'Certainly! Here are several additional examples of how to reduce the effects of global warming on health care:  1. **Strengthening Public Health Infrastructure**: Investing in resilient public health systems can better prepare communities for climate-related health challenges. This includes ensuring that health facilities can operate during extreme weather events and improving access to care in vulnerable populations.  2. **Promoting Vector Control**: As climate change alters the habitats of disease vectors like mosquitoes and ticks, implementing effective vector control strategies can help prevent vector-borne diseases, such as malaria and dengue fever. This can include environmental management, surveillance, and community awareness programs.  3. **Enhancing Disease Surveillance Systems**: Developing real-time surveillance systems that integrate climate data with health data can help predict and respond to climate-related health threats. This approach can be used to track the emergence of diseases and patterns related to weather changes.  4. **Encouraging Sustainable Agriculture**: By promoting sustainable agricultural practices, we can reduce the environmental impact of food production while also improving nutrition and food security. Agricultural practices that are better adapted to climate change can help mitigate potential health issues related to food shortages or malnutrition.  5. **Fostering Mental Health Support**: Climate change can exacerbate mental health issues through increased anxiety, stress, and trauma from climate-related disasters. Training health care providers to recognize and address these mental health impacts and providing resources for affected communities can mitigate these effects.  6. **Investing in Clean Energy**: Transitioning to renewable energy sources can reduce pollution and improve air quality, leading to fewer respiratory illnesses and other health problems associated with fossil fuel consumption.   7. **Promoting Active Transportation**: Encouraging walking, cycling, and the use of public transport can reduce greenhouse gas emissions and also promote physical health by reducing sedentary lifestyles and associated diseases like obesity and cardiovascular issues.  8. **Educating Communities**: Public health campaigns can educate communities about the health impacts of climate change, encouraging proactive health measures (such as vaccinations where relevant) and awareness of factors like heat stress or respiratory issues related to air quality.  9. **Building Climate-Resilient Communities**: Designing urban areas to mitigate heat islands (e.g., green spaces, reflective surfaces) and promoting climate-adaptive infrastructure can protect public health by minimizing heat-related illnesses and improving overall community resilience.  10. **Research and Development**: Investing in R&D to understand the link between climate change and health can lead to improved strategies for prevention, treatment, and adaptation in health care systems.  By implementing these strategies, we can create a multi-faceted approach to addressing the health impacts of global warming, enhancing community resilience, and ultimately mitigating the adverse effects on public health.'"
      ]
     },
     "execution_count": 4,
     "metadata": {},
     "output_type": "execute_result"
    }
   ],
   "source": [
    "completion = client.chat.completions.create(\n",
    "  model=\"gpt-4o-mini\",\n",
    "  store=True,\n",
    "  messages=[\n",
    "    {\"role\": \"user\",\n",
    "     \"content\": \"One example of preventing effects of global warming on health care is to Monitor emerging and re-emerging diseases \\\n",
    "     that may be influenced by changing climate conditions. Provide more example on these grounds to reduce the effect of global warming on health care.\" }\n",
    "  ]\n",
    ")\n",
    "#print(completion.choices[0].message);\n",
    "#Extract and format the response:\n",
    "narrative = completion.choices[0].message.content\n",
    "#formatting\n",
    "narrative.replace('\\n', ' ')"
   ]
  },
  {
   "cell_type": "code",
   "execution_count": null,
   "id": "55e3b884-060f-4d96-b495-76ea670616b7",
   "metadata": {},
   "outputs": [],
   "source": []
  }
 ],
 "metadata": {
  "kernelspec": {
   "display_name": "Python 3 (ipykernel)",
   "language": "python",
   "name": "python3"
  },
  "language_info": {
   "codemirror_mode": {
    "name": "ipython",
    "version": 3
   },
   "file_extension": ".py",
   "mimetype": "text/x-python",
   "name": "python",
   "nbconvert_exporter": "python",
   "pygments_lexer": "ipython3",
   "version": "3.11.7"
  }
 },
 "nbformat": 4,
 "nbformat_minor": 5
}
